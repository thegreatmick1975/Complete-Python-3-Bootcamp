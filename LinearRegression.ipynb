{
  "nbformat": 4,
  "nbformat_minor": 0,
  "metadata": {
    "colab": {
      "provenance": [],
      "authorship_tag": "ABX9TyOZHT5+15q5qJF4TSCxJIND",
      "include_colab_link": true
    },
    "kernelspec": {
      "name": "python3",
      "display_name": "Python 3"
    },
    "language_info": {
      "name": "python"
    }
  },
  "cells": [
    {
      "cell_type": "markdown",
      "metadata": {
        "id": "view-in-github",
        "colab_type": "text"
      },
      "source": [
        "<a href=\"https://colab.research.google.com/github/thegreatmick1975/Complete-Python-3-Bootcamp/blob/master/LinearRegression.ipynb\" target=\"_parent\"><img src=\"https://colab.research.google.com/assets/colab-badge.svg\" alt=\"Open In Colab\"/></a>"
      ]
    },
    {
      "cell_type": "code",
      "execution_count": 7,
      "metadata": {
        "id": "zXH-rzN6IP6a"
      },
      "outputs": [],
      "source": [
        "import urllib.request"
      ]
    },
    {
      "cell_type": "code",
      "source": [
        "!pip install pyspark"
      ],
      "metadata": {
        "colab": {
          "base_uri": "https://localhost:8080/"
        },
        "id": "jQr9uemiJ5tw",
        "outputId": "6b931d63-9c09-49d2-9d55-9bcd64d1cb92"
      },
      "execution_count": 8,
      "outputs": [
        {
          "output_type": "stream",
          "name": "stdout",
          "text": [
            "Collecting pyspark\n",
            "  Downloading pyspark-3.4.1.tar.gz (310.8 MB)\n",
            "\u001b[2K     \u001b[90m━━━━━━━━━━━━━━━━━━━━━━━━━━━━━━━━━━━━━━━\u001b[0m \u001b[32m310.8/310.8 MB\u001b[0m \u001b[31m4.7 MB/s\u001b[0m eta \u001b[36m0:00:00\u001b[0m\n",
            "\u001b[?25h  Preparing metadata (setup.py) ... \u001b[?25l\u001b[?25hdone\n",
            "Requirement already satisfied: py4j==0.10.9.7 in /usr/local/lib/python3.10/dist-packages (from pyspark) (0.10.9.7)\n",
            "Building wheels for collected packages: pyspark\n",
            "  Building wheel for pyspark (setup.py) ... \u001b[?25l\u001b[?25hdone\n",
            "  Created wheel for pyspark: filename=pyspark-3.4.1-py2.py3-none-any.whl size=311285387 sha256=785a1e795b88965ac035fa133c6cf891616e9ed4a831a51ba8773ec1ca7f6d13\n",
            "  Stored in directory: /root/.cache/pip/wheels/0d/77/a3/ff2f74cc9ab41f8f594dabf0579c2a7c6de920d584206e0834\n",
            "Successfully built pyspark\n",
            "Installing collected packages: pyspark\n",
            "Successfully installed pyspark-3.4.1\n"
          ]
        }
      ]
    },
    {
      "cell_type": "markdown",
      "source": [
        "## Importing necessary libraries to import mock randomized data"
      ],
      "metadata": {
        "id": "OFF6o8W8siZs"
      }
    },
    {
      "cell_type": "code",
      "source": [
        "url = \"https://raw.githubusercontent.com/apache/spark/master/data/mllib/sample_linear_regression_data.txt\""
      ],
      "metadata": {
        "id": "uq-dHwjFIZY-"
      },
      "execution_count": 9,
      "outputs": []
    },
    {
      "cell_type": "code",
      "source": [
        "local_filename = \"sample_linear_regression_data.txt\""
      ],
      "metadata": {
        "id": "KgkwPEZvJHmp"
      },
      "execution_count": 10,
      "outputs": []
    },
    {
      "cell_type": "code",
      "source": [
        "urllib.request.urlretrieve(url,local_filename)"
      ],
      "metadata": {
        "colab": {
          "base_uri": "https://localhost:8080/"
        },
        "id": "x0gmefPDJOKN",
        "outputId": "0d7b0805-9b61-4a5d-c189-c682c1728dae"
      },
      "execution_count": 11,
      "outputs": [
        {
          "output_type": "execute_result",
          "data": {
            "text/plain": [
              "('sample_linear_regression_data.txt',\n",
              " <http.client.HTTPMessage at 0x7b972b666a70>)"
            ]
          },
          "metadata": {},
          "execution_count": 11
        }
      ]
    },
    {
      "cell_type": "code",
      "source": [
        "import os"
      ],
      "metadata": {
        "id": "dr1aR0AvJXh3"
      },
      "execution_count": 12,
      "outputs": []
    },
    {
      "cell_type": "code",
      "source": [
        "from pyspark.ml.regression import LinearRegression"
      ],
      "metadata": {
        "id": "Eq7WwyDiPe8i"
      },
      "execution_count": 13,
      "outputs": []
    },
    {
      "cell_type": "code",
      "source": [
        "if os.path.exists(local_filename):\n",
        "  print(f\"File '{local_filename}' has been successfully downloaded and saved.\")\n",
        "else: print(f\"Failed to download '{local_filename}'.\")"
      ],
      "metadata": {
        "id": "03p_9wFrJaj2"
      },
      "execution_count": null,
      "outputs": []
    },
    {
      "cell_type": "markdown",
      "source": [
        "## Building our PySpark Engine and beginning the training summary\n"
      ],
      "metadata": {
        "id": "IPH0VjKtssqV"
      }
    },
    {
      "cell_type": "code",
      "source": [
        "from pyspark.sql import SparkSession"
      ],
      "metadata": {
        "id": "q9DtymsIKEQC"
      },
      "execution_count": 15,
      "outputs": []
    },
    {
      "cell_type": "code",
      "source": [
        "spark = SparkSession.builder.appName('lr_ex').getOrCreate()"
      ],
      "metadata": {
        "id": "NM4nJxlRKD-2"
      },
      "execution_count": 16,
      "outputs": []
    },
    {
      "cell_type": "code",
      "source": [
        "training = spark.read.format(\"libsvm\").load(\"sample_linear_regression_data.txt\")\n"
      ],
      "metadata": {
        "id": "nzDT5VefJy1e"
      },
      "execution_count": 17,
      "outputs": []
    },
    {
      "cell_type": "code",
      "source": [
        "training.show()"
      ],
      "metadata": {
        "colab": {
          "base_uri": "https://localhost:8080/"
        },
        "id": "F5JZZ20nLbux",
        "outputId": "67559e91-c6da-4aff-ffa7-accb9111213a"
      },
      "execution_count": 18,
      "outputs": [
        {
          "output_type": "stream",
          "name": "stdout",
          "text": [
            "+-------------------+--------------------+\n",
            "|              label|            features|\n",
            "+-------------------+--------------------+\n",
            "| -9.490009878824548|(10,[0,1,2,3,4,5,...|\n",
            "| 0.2577820163584905|(10,[0,1,2,3,4,5,...|\n",
            "| -4.438869807456516|(10,[0,1,2,3,4,5,...|\n",
            "|-19.782762789614537|(10,[0,1,2,3,4,5,...|\n",
            "| -7.966593841555266|(10,[0,1,2,3,4,5,...|\n",
            "| -7.896274316726144|(10,[0,1,2,3,4,5,...|\n",
            "| -8.464803554195287|(10,[0,1,2,3,4,5,...|\n",
            "| 2.1214592666251364|(10,[0,1,2,3,4,5,...|\n",
            "| 1.0720117616524107|(10,[0,1,2,3,4,5,...|\n",
            "|-13.772441561702871|(10,[0,1,2,3,4,5,...|\n",
            "| -5.082010756207233|(10,[0,1,2,3,4,5,...|\n",
            "|  7.887786536531237|(10,[0,1,2,3,4,5,...|\n",
            "| 14.323146365332388|(10,[0,1,2,3,4,5,...|\n",
            "|-20.057482615789212|(10,[0,1,2,3,4,5,...|\n",
            "|-0.8995693247765151|(10,[0,1,2,3,4,5,...|\n",
            "| -19.16829262296376|(10,[0,1,2,3,4,5,...|\n",
            "|  5.601801561245534|(10,[0,1,2,3,4,5,...|\n",
            "|-3.2256352187273354|(10,[0,1,2,3,4,5,...|\n",
            "| 1.5299675726687754|(10,[0,1,2,3,4,5,...|\n",
            "| -0.250102447941961|(10,[0,1,2,3,4,5,...|\n",
            "+-------------------+--------------------+\n",
            "only showing top 20 rows\n",
            "\n"
          ]
        }
      ]
    },
    {
      "cell_type": "markdown",
      "source": [
        "##Building our Linear Regression Training Model\n"
      ],
      "metadata": {
        "id": "M8eObhvJs1Sb"
      }
    },
    {
      "cell_type": "code",
      "source": [
        "lr = LinearRegression(featuresCol = 'features', labelCol= 'label', predictionCol = 'prediction')"
      ],
      "metadata": {
        "id": "OlDxKmhUO3yV"
      },
      "execution_count": 19,
      "outputs": []
    },
    {
      "cell_type": "code",
      "source": [
        "lrModel = lr.fit(training)"
      ],
      "metadata": {
        "id": "IVDKdlwlP4A8"
      },
      "execution_count": 20,
      "outputs": []
    },
    {
      "cell_type": "markdown",
      "source": [],
      "metadata": {
        "id": "lzRV_3WoRaX4"
      }
    },
    {
      "cell_type": "code",
      "source": [
        "print('Coefficients:', str(lrModel.coefficients))\n",
        "print('Intercept:', str(lrModel.intercept))\n"
      ],
      "metadata": {
        "colab": {
          "base_uri": "https://localhost:8080/"
        },
        "id": "ErneHspUQsYR",
        "outputId": "490ff2b1-b895-4714-a8a9-4df7ad893567"
      },
      "execution_count": 21,
      "outputs": [
        {
          "output_type": "stream",
          "name": "stdout",
          "text": [
            "Coefficients: [0.0073350710225801715,0.8313757584337543,-0.8095307954684084,2.441191686884721,0.5191713795290002,1.1534591903547016,-0.2989124112808717,-0.5128514186201779,-0.619712827067017,0.695615180432293]\n",
            "Intercept: 0.14228558260358093\n"
          ]
        }
      ]
    },
    {
      "cell_type": "code",
      "source": [
        "trainSummary = lrModel.summary"
      ],
      "metadata": {
        "id": "bSOb_TGxm9Le"
      },
      "execution_count": 23,
      "outputs": []
    },
    {
      "cell_type": "code",
      "source": [
        "trainSummary"
      ],
      "metadata": {
        "colab": {
          "base_uri": "https://localhost:8080/"
        },
        "id": "sAhq1LUFnQ05",
        "outputId": "2531466e-6bcb-446a-90b3-89dea1dc524f"
      },
      "execution_count": 24,
      "outputs": [
        {
          "output_type": "execute_result",
          "data": {
            "text/plain": [
              "<pyspark.ml.regression.LinearRegressionTrainingSummary at 0x7b97264fee00>"
            ]
          },
          "metadata": {},
          "execution_count": 24
        }
      ]
    },
    {
      "cell_type": "markdown",
      "source": [
        "**MAE**: Measures the average absolute difference between the predicted values and the actual values of the data.\n",
        "**MSE:** Calculates the average of the squared differences between predicted and actual values.\n",
        "**RMSE**: is the square root of the *MSE*. This provides a measure of prediction error with lower values indicating better model performance.\n",
        "**R2**: R-squared measures the proportion of the variance in the dependent variable (target) that is explained by the independent variables (features) in the model. It ranges from 0 to 1, with higher values indicating that a larger proportion of the variance is explained by the model.\n",
        "**AdjR2**:*Adjusted R-squared* is a modified version of R-squared that takes into account the number of features in the model. It penalizes the addition of unnecessary features and provides a more reliable measure of model fit, especially in the presence of many features.\n",
        "\n"
      ],
      "metadata": {
        "id": "X7ODw-VWqgXJ"
      }
    },
    {
      "cell_type": "markdown",
      "source": [],
      "metadata": {
        "id": "TI7gqLa8qTgH"
      }
    },
    {
      "cell_type": "code",
      "source": [
        "print('MAE:', trainSummary.meanAbsoluteError)\n",
        "print('MSE:', trainSummary.meanSquaredError)\n",
        "print('RMSE:', trainSummary.rootMeanSquaredError)\n",
        "print('R2:', trainSummary.r2)\n",
        "print('Adj R2', trainSummary.r2adj)"
      ],
      "metadata": {
        "colab": {
          "base_uri": "https://localhost:8080/"
        },
        "id": "0521fJacoUvX",
        "outputId": "ddf01e29-7bbc-4a2f-e327-15a48e33568f"
      },
      "execution_count": 27,
      "outputs": [
        {
          "output_type": "stream",
          "name": "stdout",
          "text": [
            "MAE: 8.145215527783876\n",
            "MSE: 103.28843028724194\n",
            "RMSE: 10.16309157133015\n",
            "R2: 0.027839179518600154\n",
            "Adj R2 0.007999162774081858\n"
          ]
        }
      ]
    },
    {
      "cell_type": "markdown",
      "source": [
        "The output shows that this model is absolutely horrific. As we didn't do a train-test-split which will be perfomed below."
      ],
      "metadata": {
        "id": "SMBx3SOIr7iM"
      }
    },
    {
      "cell_type": "markdown",
      "source": [
        "## Train Test Split with PySpark\n",
        "### Pass the split between training/test as a list.\n",
        "### Not correct, but generally 70/30 or 60/40 splits are used.\n",
        "### Depending on how much data you have and how unbalanced it is.\n",
        "\n"
      ],
      "metadata": {
        "id": "qgyV5xAxsXuU"
      }
    },
    {
      "cell_type": "code",
      "source": [
        "newDf = spark.read.format(\"libsvm\").load(\"sample_linear_regression_data.txt\") # Full Dataset"
      ],
      "metadata": {
        "id": "X31U3WQQsQ0G"
      },
      "execution_count": 30,
      "outputs": []
    },
    {
      "cell_type": "code",
      "source": [
        "train_data, test_data = newDf.randomSplit([0.7, 0.3], seed=42)"
      ],
      "metadata": {
        "id": "mDJJtgZXv3_J"
      },
      "execution_count": 32,
      "outputs": []
    },
    {
      "cell_type": "code",
      "source": [
        "train_data.show()\n",
        "test_data.show()"
      ],
      "metadata": {
        "colab": {
          "base_uri": "https://localhost:8080/"
        },
        "id": "zQRHO2duxRBF",
        "outputId": "75a33174-0bf7-4181-ba4f-0d90c1b630b7"
      },
      "execution_count": 34,
      "outputs": [
        {
          "output_type": "stream",
          "name": "stdout",
          "text": [
            "+-------------------+--------------------+\n",
            "|              label|            features|\n",
            "+-------------------+--------------------+\n",
            "|-28.571478869743427|(10,[0,1,2,3,4,5,...|\n",
            "|-28.046018037776633|(10,[0,1,2,3,4,5,...|\n",
            "|-26.736207182601724|(10,[0,1,2,3,4,5,...|\n",
            "| -23.51088409032297|(10,[0,1,2,3,4,5,...|\n",
            "|-23.487440120936512|(10,[0,1,2,3,4,5,...|\n",
            "|-22.837460416919342|(10,[0,1,2,3,4,5,...|\n",
            "|-20.057482615789212|(10,[0,1,2,3,4,5,...|\n",
            "|-19.884560774273424|(10,[0,1,2,3,4,5,...|\n",
            "|-19.872991038068406|(10,[0,1,2,3,4,5,...|\n",
            "| -19.16829262296376|(10,[0,1,2,3,4,5,...|\n",
            "|-18.845922472898582|(10,[0,1,2,3,4,5,...|\n",
            "| -18.27521356600463|(10,[0,1,2,3,4,5,...|\n",
            "|-17.494200356883344|(10,[0,1,2,3,4,5,...|\n",
            "| -17.32672073267595|(10,[0,1,2,3,4,5,...|\n",
            "| -16.71909683360509|(10,[0,1,2,3,4,5,...|\n",
            "|-16.692207021311106|(10,[0,1,2,3,4,5,...|\n",
            "| -16.26143027545273|(10,[0,1,2,3,4,5,...|\n",
            "| -15.86200932757056|(10,[0,1,2,3,4,5,...|\n",
            "|-15.732088272239245|(10,[0,1,2,3,4,5,...|\n",
            "|-15.375857723312297|(10,[0,1,2,3,4,5,...|\n",
            "+-------------------+--------------------+\n",
            "only showing top 20 rows\n",
            "\n",
            "+-------------------+--------------------+\n",
            "|              label|            features|\n",
            "+-------------------+--------------------+\n",
            "|-26.805483428483072|(10,[0,1,2,3,4,5,...|\n",
            "|-22.949825936196074|(10,[0,1,2,3,4,5,...|\n",
            "|-21.432387764165806|(10,[0,1,2,3,4,5,...|\n",
            "|-20.212077258958672|(10,[0,1,2,3,4,5,...|\n",
            "|-19.782762789614537|(10,[0,1,2,3,4,5,...|\n",
            "| -19.66731861537172|(10,[0,1,2,3,4,5,...|\n",
            "|-19.402336030214553|(10,[0,1,2,3,4,5,...|\n",
            "|-17.803626188664516|(10,[0,1,2,3,4,5,...|\n",
            "|-17.428674570939506|(10,[0,1,2,3,4,5,...|\n",
            "|-17.065399625876015|(10,[0,1,2,3,4,5,...|\n",
            "|-17.026492264209548|(10,[0,1,2,3,4,5,...|\n",
            "|-16.151349351277112|(10,[0,1,2,3,4,5,...|\n",
            "| -16.08565904102149|(10,[0,1,2,3,4,5,...|\n",
            "|-15.951512565794573|(10,[0,1,2,3,4,5,...|\n",
            "|-15.780685032623301|(10,[0,1,2,3,4,5,...|\n",
            "| -15.72351561304857|(10,[0,1,2,3,4,5,...|\n",
            "|-15.437384793431217|(10,[0,1,2,3,4,5,...|\n",
            "|-15.334767479922341|(10,[0,1,2,3,4,5,...|\n",
            "|-14.822152909751189|(10,[0,1,2,3,4,5,...|\n",
            "|-14.762758252931127|(10,[0,1,2,3,4,5,...|\n",
            "+-------------------+--------------------+\n",
            "only showing top 20 rows\n",
            "\n"
          ]
        }
      ]
    },
    {
      "cell_type": "code",
      "source": [
        "unlabeled_data = test_data.select('features')"
      ],
      "metadata": {
        "id": "WHnLFt1FxUls"
      },
      "execution_count": 35,
      "outputs": []
    },
    {
      "cell_type": "code",
      "source": [
        "new_model = lr.fit(train_data)"
      ],
      "metadata": {
        "id": "IKzPCwuoxpAb"
      },
      "execution_count": 36,
      "outputs": []
    },
    {
      "cell_type": "code",
      "source": [
        "results = new_model.evaluate(test_data)"
      ],
      "metadata": {
        "id": "UV6tyZJvx5wf"
      },
      "execution_count": 37,
      "outputs": []
    },
    {
      "cell_type": "code",
      "source": [
        "print('MAE:', results.meanAbsoluteError)\n",
        "print('MSE:', results.meanSquaredError)\n",
        "print('RMSE:', results.rootMeanSquaredError)\n",
        "print('R2:', results.r2)\n",
        "print('Adj R2', results.r2adj)"
      ],
      "metadata": {
        "colab": {
          "base_uri": "https://localhost:8080/"
        },
        "id": "Ql7iXlBLx_gz",
        "outputId": "ff32c3a6-716c-41d6-975c-cb98b4fe74b3"
      },
      "execution_count": 38,
      "outputs": [
        {
          "output_type": "stream",
          "name": "stdout",
          "text": [
            "MAE: 9.855750048378727\n",
            "MSE: 142.31866794563598\n",
            "RMSE: 11.929738804585622\n",
            "R2: -0.14679155085585793\n",
            "Adj R2 -0.24651255527810645\n"
          ]
        }
      ]
    },
    {
      "cell_type": "code",
      "source": [
        "predictions = new_model.transform(unlabeled_data)"
      ],
      "metadata": {
        "id": "yIo1pDqyzAyX"
      },
      "execution_count": 39,
      "outputs": []
    },
    {
      "cell_type": "code",
      "source": [
        "predictions.show()"
      ],
      "metadata": {
        "colab": {
          "base_uri": "https://localhost:8080/"
        },
        "id": "Oxj0-YixzMqE",
        "outputId": "91449cda-0b26-4624-f0be-ec048a885dd8"
      },
      "execution_count": 40,
      "outputs": [
        {
          "output_type": "stream",
          "name": "stdout",
          "text": [
            "+--------------------+--------------------+\n",
            "|            features|          prediction|\n",
            "+--------------------+--------------------+\n",
            "|(10,[0,1,2,3,4,5,...|  1.5004193024392305|\n",
            "|(10,[0,1,2,3,4,5,...|   6.540721556576252|\n",
            "|(10,[0,1,2,3,4,5,...|  1.4369775273526635|\n",
            "|(10,[0,1,2,3,4,5,...|  1.3156052948594423|\n",
            "|(10,[0,1,2,3,4,5,...|-0.09510236182489817|\n",
            "|(10,[0,1,2,3,4,5,...|  0.1264840774927029|\n",
            "|(10,[0,1,2,3,4,5,...|-0.40745999229762586|\n",
            "|(10,[0,1,2,3,4,5,...|  -1.382750455726864|\n",
            "|(10,[0,1,2,3,4,5,...|  2.6965070486236957|\n",
            "|(10,[0,1,2,3,4,5,...|  2.4228427074240106|\n",
            "|(10,[0,1,2,3,4,5,...|-0.33620505674116286|\n",
            "|(10,[0,1,2,3,4,5,...|  1.5811910073932327|\n",
            "|(10,[0,1,2,3,4,5,...|  -0.912686515312681|\n",
            "|(10,[0,1,2,3,4,5,...| -2.4337353560269612|\n",
            "|(10,[0,1,2,3,4,5,...|  4.7238640017384945|\n",
            "|(10,[0,1,2,3,4,5,...|  1.7972086764514912|\n",
            "|(10,[0,1,2,3,4,5,...| -0.3727532193177281|\n",
            "|(10,[0,1,2,3,4,5,...|  3.3935938829568832|\n",
            "|(10,[0,1,2,3,4,5,...|  1.1738235336515077|\n",
            "|(10,[0,1,2,3,4,5,...| 0.40092321249281315|\n",
            "+--------------------+--------------------+\n",
            "only showing top 20 rows\n",
            "\n"
          ]
        }
      ]
    },
    {
      "cell_type": "markdown",
      "source": [],
      "metadata": {
        "id": "E14TGJOwzYp8"
      }
    },
    {
      "cell_type": "code",
      "source": [],
      "metadata": {
        "id": "CkLN-c7qzOD5"
      },
      "execution_count": null,
      "outputs": []
    }
  ]
}